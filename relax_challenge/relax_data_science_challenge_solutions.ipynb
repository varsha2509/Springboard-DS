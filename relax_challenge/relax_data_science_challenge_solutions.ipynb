{
 "cells": [
  {
   "cell_type": "code",
   "execution_count": null,
   "metadata": {},
   "outputs": [],
   "source": [
    "# Take home challenge #2 - \n",
    "#Relax Inc Challenge"
   ]
  },
  {
   "cell_type": "code",
   "execution_count": 274,
   "metadata": {},
   "outputs": [],
   "source": [
    "##Import libraries\n",
    "import json\n",
    "import pandas as pd\n",
    "import numpy as np\n",
    "from pandas.io.json import json_normalize\n",
    "import datetime as dt\n",
    "from datetime import timedelta\n",
    "import matplotlib.pyplot as plt\n",
    "import seaborn as sns\n",
    "from datetime import datetime\n",
    "\n",
    "\n",
    "\n",
    "from sklearn.ensemble import RandomForestClassifier\n",
    "from sklearn.model_selection import train_test_split, GridSearchCV, cross_val_score\n",
    "from sklearn.metrics import confusion_matrix, precision_recall_fscore_support\n",
    "from sklearn.linear_model import LogisticRegression\n",
    "from sklearn.ensemble import RandomForestClassifier\n",
    "from boruta import BorutaPy\n",
    "\n",
    "\n",
    "sns.set(style = 'whitegrid')\n",
    "sns.set_palette('bright')\n",
    "%matplotlib inline"
   ]
  },
  {
   "cell_type": "markdown",
   "metadata": {},
   "source": [
    "# Cleaning and Loading data"
   ]
  },
  {
   "cell_type": "code",
   "execution_count": 184,
   "metadata": {},
   "outputs": [],
   "source": [
    "# Read data\n",
    "data_engagement = pd.read_csv(\"takehome_user_engagement.csv\", )\n"
   ]
  },
  {
   "cell_type": "code",
   "execution_count": 185,
   "metadata": {},
   "outputs": [
    {
     "data": {
      "text/html": [
       "<div>\n",
       "<style scoped>\n",
       "    .dataframe tbody tr th:only-of-type {\n",
       "        vertical-align: middle;\n",
       "    }\n",
       "\n",
       "    .dataframe tbody tr th {\n",
       "        vertical-align: top;\n",
       "    }\n",
       "\n",
       "    .dataframe thead th {\n",
       "        text-align: right;\n",
       "    }\n",
       "</style>\n",
       "<table border=\"1\" class=\"dataframe\">\n",
       "  <thead>\n",
       "    <tr style=\"text-align: right;\">\n",
       "      <th></th>\n",
       "      <th>time_stamp</th>\n",
       "      <th>user_id</th>\n",
       "      <th>visited</th>\n",
       "    </tr>\n",
       "  </thead>\n",
       "  <tbody>\n",
       "    <tr>\n",
       "      <td>0</td>\n",
       "      <td>2014-04-22 03:53:30</td>\n",
       "      <td>1</td>\n",
       "      <td>1</td>\n",
       "    </tr>\n",
       "    <tr>\n",
       "      <td>1</td>\n",
       "      <td>2013-11-15 03:45:04</td>\n",
       "      <td>2</td>\n",
       "      <td>1</td>\n",
       "    </tr>\n",
       "    <tr>\n",
       "      <td>2</td>\n",
       "      <td>2013-11-29 03:45:04</td>\n",
       "      <td>2</td>\n",
       "      <td>1</td>\n",
       "    </tr>\n",
       "    <tr>\n",
       "      <td>3</td>\n",
       "      <td>2013-12-09 03:45:04</td>\n",
       "      <td>2</td>\n",
       "      <td>1</td>\n",
       "    </tr>\n",
       "    <tr>\n",
       "      <td>4</td>\n",
       "      <td>2013-12-25 03:45:04</td>\n",
       "      <td>2</td>\n",
       "      <td>1</td>\n",
       "    </tr>\n",
       "    <tr>\n",
       "      <td>5</td>\n",
       "      <td>2013-12-31 03:45:04</td>\n",
       "      <td>2</td>\n",
       "      <td>1</td>\n",
       "    </tr>\n",
       "    <tr>\n",
       "      <td>6</td>\n",
       "      <td>2014-01-08 03:45:04</td>\n",
       "      <td>2</td>\n",
       "      <td>1</td>\n",
       "    </tr>\n",
       "    <tr>\n",
       "      <td>7</td>\n",
       "      <td>2014-02-03 03:45:04</td>\n",
       "      <td>2</td>\n",
       "      <td>1</td>\n",
       "    </tr>\n",
       "    <tr>\n",
       "      <td>8</td>\n",
       "      <td>2014-02-08 03:45:04</td>\n",
       "      <td>2</td>\n",
       "      <td>1</td>\n",
       "    </tr>\n",
       "    <tr>\n",
       "      <td>9</td>\n",
       "      <td>2014-02-09 03:45:04</td>\n",
       "      <td>2</td>\n",
       "      <td>1</td>\n",
       "    </tr>\n",
       "  </tbody>\n",
       "</table>\n",
       "</div>"
      ],
      "text/plain": [
       "            time_stamp  user_id  visited\n",
       "0  2014-04-22 03:53:30        1        1\n",
       "1  2013-11-15 03:45:04        2        1\n",
       "2  2013-11-29 03:45:04        2        1\n",
       "3  2013-12-09 03:45:04        2        1\n",
       "4  2013-12-25 03:45:04        2        1\n",
       "5  2013-12-31 03:45:04        2        1\n",
       "6  2014-01-08 03:45:04        2        1\n",
       "7  2014-02-03 03:45:04        2        1\n",
       "8  2014-02-08 03:45:04        2        1\n",
       "9  2014-02-09 03:45:04        2        1"
      ]
     },
     "execution_count": 185,
     "metadata": {},
     "output_type": "execute_result"
    }
   ],
   "source": [
    "# Explore the dataset\n",
    "data_engagement.head(10)"
   ]
  },
  {
   "cell_type": "code",
   "execution_count": 186,
   "metadata": {},
   "outputs": [
    {
     "name": "stdout",
     "output_type": "stream",
     "text": [
      "<class 'pandas.core.frame.DataFrame'>\n",
      "RangeIndex: 207917 entries, 0 to 207916\n",
      "Data columns (total 3 columns):\n",
      "time_stamp    207917 non-null object\n",
      "user_id       207917 non-null int64\n",
      "visited       207917 non-null int64\n",
      "dtypes: int64(2), object(1)\n",
      "memory usage: 4.8+ MB\n"
     ]
    }
   ],
   "source": [
    "# Explore the dataset\n",
    "data_engagement.info()"
   ]
  },
  {
   "cell_type": "code",
   "execution_count": 187,
   "metadata": {},
   "outputs": [],
   "source": [
    "# Clean up the dataset\n",
    "data_engagement['time_stamp'] = pd.to_datetime(data_engagement['time_stamp'], format = '%Y-%m-%d %H:%M:%S')\n",
    "data_engagement['date'] = data_engagement['time_stamp'].dt.date\n",
    "data_engagement['time'] = data_engagement['time_stamp'].dt.time"
   ]
  },
  {
   "cell_type": "code",
   "execution_count": 188,
   "metadata": {},
   "outputs": [
    {
     "data": {
      "text/html": [
       "<div>\n",
       "<style scoped>\n",
       "    .dataframe tbody tr th:only-of-type {\n",
       "        vertical-align: middle;\n",
       "    }\n",
       "\n",
       "    .dataframe tbody tr th {\n",
       "        vertical-align: top;\n",
       "    }\n",
       "\n",
       "    .dataframe thead th {\n",
       "        text-align: right;\n",
       "    }\n",
       "</style>\n",
       "<table border=\"1\" class=\"dataframe\">\n",
       "  <thead>\n",
       "    <tr style=\"text-align: right;\">\n",
       "      <th></th>\n",
       "      <th>time_stamp</th>\n",
       "      <th>user_id</th>\n",
       "      <th>visited</th>\n",
       "      <th>date</th>\n",
       "      <th>time</th>\n",
       "    </tr>\n",
       "  </thead>\n",
       "  <tbody>\n",
       "    <tr>\n",
       "      <td>0</td>\n",
       "      <td>2014-04-22 03:53:30</td>\n",
       "      <td>1</td>\n",
       "      <td>1</td>\n",
       "      <td>2014-04-22</td>\n",
       "      <td>03:53:30</td>\n",
       "    </tr>\n",
       "    <tr>\n",
       "      <td>1</td>\n",
       "      <td>2013-11-15 03:45:04</td>\n",
       "      <td>2</td>\n",
       "      <td>1</td>\n",
       "      <td>2013-11-15</td>\n",
       "      <td>03:45:04</td>\n",
       "    </tr>\n",
       "    <tr>\n",
       "      <td>2</td>\n",
       "      <td>2013-11-29 03:45:04</td>\n",
       "      <td>2</td>\n",
       "      <td>1</td>\n",
       "      <td>2013-11-29</td>\n",
       "      <td>03:45:04</td>\n",
       "    </tr>\n",
       "    <tr>\n",
       "      <td>3</td>\n",
       "      <td>2013-12-09 03:45:04</td>\n",
       "      <td>2</td>\n",
       "      <td>1</td>\n",
       "      <td>2013-12-09</td>\n",
       "      <td>03:45:04</td>\n",
       "    </tr>\n",
       "    <tr>\n",
       "      <td>4</td>\n",
       "      <td>2013-12-25 03:45:04</td>\n",
       "      <td>2</td>\n",
       "      <td>1</td>\n",
       "      <td>2013-12-25</td>\n",
       "      <td>03:45:04</td>\n",
       "    </tr>\n",
       "    <tr>\n",
       "      <td>5</td>\n",
       "      <td>2013-12-31 03:45:04</td>\n",
       "      <td>2</td>\n",
       "      <td>1</td>\n",
       "      <td>2013-12-31</td>\n",
       "      <td>03:45:04</td>\n",
       "    </tr>\n",
       "    <tr>\n",
       "      <td>6</td>\n",
       "      <td>2014-01-08 03:45:04</td>\n",
       "      <td>2</td>\n",
       "      <td>1</td>\n",
       "      <td>2014-01-08</td>\n",
       "      <td>03:45:04</td>\n",
       "    </tr>\n",
       "    <tr>\n",
       "      <td>7</td>\n",
       "      <td>2014-02-03 03:45:04</td>\n",
       "      <td>2</td>\n",
       "      <td>1</td>\n",
       "      <td>2014-02-03</td>\n",
       "      <td>03:45:04</td>\n",
       "    </tr>\n",
       "    <tr>\n",
       "      <td>8</td>\n",
       "      <td>2014-02-08 03:45:04</td>\n",
       "      <td>2</td>\n",
       "      <td>1</td>\n",
       "      <td>2014-02-08</td>\n",
       "      <td>03:45:04</td>\n",
       "    </tr>\n",
       "    <tr>\n",
       "      <td>9</td>\n",
       "      <td>2014-02-09 03:45:04</td>\n",
       "      <td>2</td>\n",
       "      <td>1</td>\n",
       "      <td>2014-02-09</td>\n",
       "      <td>03:45:04</td>\n",
       "    </tr>\n",
       "  </tbody>\n",
       "</table>\n",
       "</div>"
      ],
      "text/plain": [
       "           time_stamp  user_id  visited        date      time\n",
       "0 2014-04-22 03:53:30        1        1  2014-04-22  03:53:30\n",
       "1 2013-11-15 03:45:04        2        1  2013-11-15  03:45:04\n",
       "2 2013-11-29 03:45:04        2        1  2013-11-29  03:45:04\n",
       "3 2013-12-09 03:45:04        2        1  2013-12-09  03:45:04\n",
       "4 2013-12-25 03:45:04        2        1  2013-12-25  03:45:04\n",
       "5 2013-12-31 03:45:04        2        1  2013-12-31  03:45:04\n",
       "6 2014-01-08 03:45:04        2        1  2014-01-08  03:45:04\n",
       "7 2014-02-03 03:45:04        2        1  2014-02-03  03:45:04\n",
       "8 2014-02-08 03:45:04        2        1  2014-02-08  03:45:04\n",
       "9 2014-02-09 03:45:04        2        1  2014-02-09  03:45:04"
      ]
     },
     "execution_count": 188,
     "metadata": {},
     "output_type": "execute_result"
    }
   ],
   "source": [
    "data_engagement.head(10)"
   ]
  },
  {
   "cell_type": "code",
   "execution_count": 189,
   "metadata": {},
   "outputs": [
    {
     "name": "stdout",
     "output_type": "stream",
     "text": [
      "The total number of unique users is 8823 out of 207917 logins.\n"
     ]
    }
   ],
   "source": [
    "# First determine the number of 'unique' users\n",
    "print('The total number of unique users is {} out of {} logins.'.format(data_engagement['user_id'].nunique(), len(data_engagement)))"
   ]
  },
  {
   "cell_type": "code",
   "execution_count": 190,
   "metadata": {},
   "outputs": [],
   "source": [
    "## Create a function to determine if the user is active or not. \n",
    "def calculate_delta_days (df, days= 7, logins = 3):\n",
    "    #First removing any duplicate occurances of login andsort the date column in ascending order\n",
    "    df = df.drop_duplicates(subset = 'date').sort_values('date')\n",
    "    \n",
    "    #Calculate a column which stores the delta date. Delta is calculated every 3rd period\n",
    "    delta_days = df['date'].diff(periods = logins - 1)\n",
    "    \n",
    "    #Determine if any delta date is less than or equal to 7. \n",
    "    #The function returns True or False, True for active user and False for non active user\n",
    "    return any(delta_days <= timedelta(days = days))\n"
   ]
  },
  {
   "cell_type": "code",
   "execution_count": 191,
   "metadata": {},
   "outputs": [],
   "source": [
    "adopted_users = data_engagement.groupby('user_id').apply(calculate_delta_days)"
   ]
  },
  {
   "cell_type": "code",
   "execution_count": 192,
   "metadata": {},
   "outputs": [
    {
     "name": "stdout",
     "output_type": "stream",
     "text": [
      "Total number of adopted users is 1656.\n"
     ]
    }
   ],
   "source": [
    "print(\"Total number of adopted users is {}.\".format(sum(active_users)))"
   ]
  },
  {
   "cell_type": "code",
   "execution_count": 193,
   "metadata": {},
   "outputs": [],
   "source": [
    "### Explore the first dataset - takehome_users.csv"
   ]
  },
  {
   "cell_type": "code",
   "execution_count": 194,
   "metadata": {},
   "outputs": [],
   "source": [
    "#Since the name and the email id columns contain some characters that are not in utf-8, let's drop those two columns and select only the rest\n",
    "use_cols = ['object_id', 'creation_time','creation_source','last_session_creation_time','opted_in_to_mailing_list',\n",
    "           'enabled_for_marketing_drip','org_id','invited_by_user_id']\n",
    "\n",
    "\n",
    "data_users = pd.read_csv(\"takehome_users.csv\", usecols = use_cols)"
   ]
  },
  {
   "cell_type": "code",
   "execution_count": 195,
   "metadata": {},
   "outputs": [
    {
     "data": {
      "text/html": [
       "<div>\n",
       "<style scoped>\n",
       "    .dataframe tbody tr th:only-of-type {\n",
       "        vertical-align: middle;\n",
       "    }\n",
       "\n",
       "    .dataframe tbody tr th {\n",
       "        vertical-align: top;\n",
       "    }\n",
       "\n",
       "    .dataframe thead th {\n",
       "        text-align: right;\n",
       "    }\n",
       "</style>\n",
       "<table border=\"1\" class=\"dataframe\">\n",
       "  <thead>\n",
       "    <tr style=\"text-align: right;\">\n",
       "      <th></th>\n",
       "      <th>object_id</th>\n",
       "      <th>creation_time</th>\n",
       "      <th>creation_source</th>\n",
       "      <th>last_session_creation_time</th>\n",
       "      <th>opted_in_to_mailing_list</th>\n",
       "      <th>enabled_for_marketing_drip</th>\n",
       "      <th>org_id</th>\n",
       "      <th>invited_by_user_id</th>\n",
       "    </tr>\n",
       "  </thead>\n",
       "  <tbody>\n",
       "    <tr>\n",
       "      <td>0</td>\n",
       "      <td>1</td>\n",
       "      <td>2014-04-22 03:53:30</td>\n",
       "      <td>GUEST_INVITE</td>\n",
       "      <td>1.398139e+09</td>\n",
       "      <td>1</td>\n",
       "      <td>0</td>\n",
       "      <td>11</td>\n",
       "      <td>10803.0</td>\n",
       "    </tr>\n",
       "    <tr>\n",
       "      <td>1</td>\n",
       "      <td>2</td>\n",
       "      <td>2013-11-15 03:45:04</td>\n",
       "      <td>ORG_INVITE</td>\n",
       "      <td>1.396238e+09</td>\n",
       "      <td>0</td>\n",
       "      <td>0</td>\n",
       "      <td>1</td>\n",
       "      <td>316.0</td>\n",
       "    </tr>\n",
       "    <tr>\n",
       "      <td>2</td>\n",
       "      <td>3</td>\n",
       "      <td>2013-03-19 23:14:52</td>\n",
       "      <td>ORG_INVITE</td>\n",
       "      <td>1.363735e+09</td>\n",
       "      <td>0</td>\n",
       "      <td>0</td>\n",
       "      <td>94</td>\n",
       "      <td>1525.0</td>\n",
       "    </tr>\n",
       "    <tr>\n",
       "      <td>3</td>\n",
       "      <td>4</td>\n",
       "      <td>2013-05-21 08:09:28</td>\n",
       "      <td>GUEST_INVITE</td>\n",
       "      <td>1.369210e+09</td>\n",
       "      <td>0</td>\n",
       "      <td>0</td>\n",
       "      <td>1</td>\n",
       "      <td>5151.0</td>\n",
       "    </tr>\n",
       "    <tr>\n",
       "      <td>4</td>\n",
       "      <td>5</td>\n",
       "      <td>2013-01-17 10:14:20</td>\n",
       "      <td>GUEST_INVITE</td>\n",
       "      <td>1.358850e+09</td>\n",
       "      <td>0</td>\n",
       "      <td>0</td>\n",
       "      <td>193</td>\n",
       "      <td>5240.0</td>\n",
       "    </tr>\n",
       "  </tbody>\n",
       "</table>\n",
       "</div>"
      ],
      "text/plain": [
       "   object_id        creation_time creation_source  last_session_creation_time  \\\n",
       "0          1  2014-04-22 03:53:30    GUEST_INVITE                1.398139e+09   \n",
       "1          2  2013-11-15 03:45:04      ORG_INVITE                1.396238e+09   \n",
       "2          3  2013-03-19 23:14:52      ORG_INVITE                1.363735e+09   \n",
       "3          4  2013-05-21 08:09:28    GUEST_INVITE                1.369210e+09   \n",
       "4          5  2013-01-17 10:14:20    GUEST_INVITE                1.358850e+09   \n",
       "\n",
       "   opted_in_to_mailing_list  enabled_for_marketing_drip  org_id  \\\n",
       "0                         1                           0      11   \n",
       "1                         0                           0       1   \n",
       "2                         0                           0      94   \n",
       "3                         0                           0       1   \n",
       "4                         0                           0     193   \n",
       "\n",
       "   invited_by_user_id  \n",
       "0             10803.0  \n",
       "1               316.0  \n",
       "2              1525.0  \n",
       "3              5151.0  \n",
       "4              5240.0  "
      ]
     },
     "execution_count": 195,
     "metadata": {},
     "output_type": "execute_result"
    }
   ],
   "source": [
    "data_users.head()"
   ]
  },
  {
   "cell_type": "code",
   "execution_count": 196,
   "metadata": {},
   "outputs": [
    {
     "name": "stdout",
     "output_type": "stream",
     "text": [
      "<class 'pandas.core.frame.DataFrame'>\n",
      "RangeIndex: 12000 entries, 0 to 11999\n",
      "Data columns (total 8 columns):\n",
      "object_id                     12000 non-null int64\n",
      "creation_time                 12000 non-null object\n",
      "creation_source               12000 non-null object\n",
      "last_session_creation_time    8823 non-null float64\n",
      "opted_in_to_mailing_list      12000 non-null int64\n",
      "enabled_for_marketing_drip    12000 non-null int64\n",
      "org_id                        12000 non-null int64\n",
      "invited_by_user_id            6417 non-null float64\n",
      "dtypes: float64(2), int64(4), object(2)\n",
      "memory usage: 750.1+ KB\n"
     ]
    }
   ],
   "source": [
    "## Explore the data_users file\n",
    "data_users.info()"
   ]
  },
  {
   "cell_type": "markdown",
   "metadata": {},
   "source": [
    "There are some missing values in the last_session_creation_time and the invited_by_user id columns. Since we don't know any information on which user may have invited, we can ignore the missing values here. Since we also don't know the timestamp of last login, we can ignore the missing timestamps. Let's also convert the unix timestamp of last logint to datetime format. "
   ]
  },
  {
   "cell_type": "code",
   "execution_count": 197,
   "metadata": {},
   "outputs": [],
   "source": [
    "# First convert the last session creation time and creation time into YY-MM-DD-H-M-S format\n",
    "data_users['last_session_creation_time']  = pd.to_datetime(data_users['last_session_creation_time'], unit = 's')\n",
    "data_users['creation_time']  = pd.to_datetime(data_users['creation_time'], format='%Y-%m-%d %H:%M:%S')"
   ]
  },
  {
   "cell_type": "code",
   "execution_count": 198,
   "metadata": {},
   "outputs": [
    {
     "data": {
      "text/html": [
       "<div>\n",
       "<style scoped>\n",
       "    .dataframe tbody tr th:only-of-type {\n",
       "        vertical-align: middle;\n",
       "    }\n",
       "\n",
       "    .dataframe tbody tr th {\n",
       "        vertical-align: top;\n",
       "    }\n",
       "\n",
       "    .dataframe thead th {\n",
       "        text-align: right;\n",
       "    }\n",
       "</style>\n",
       "<table border=\"1\" class=\"dataframe\">\n",
       "  <thead>\n",
       "    <tr style=\"text-align: right;\">\n",
       "      <th></th>\n",
       "      <th>object_id</th>\n",
       "      <th>creation_time</th>\n",
       "      <th>creation_source</th>\n",
       "      <th>last_session_creation_time</th>\n",
       "      <th>opted_in_to_mailing_list</th>\n",
       "      <th>enabled_for_marketing_drip</th>\n",
       "      <th>org_id</th>\n",
       "      <th>invited_by_user_id</th>\n",
       "    </tr>\n",
       "  </thead>\n",
       "  <tbody>\n",
       "    <tr>\n",
       "      <td>0</td>\n",
       "      <td>1</td>\n",
       "      <td>2014-04-22 03:53:30</td>\n",
       "      <td>GUEST_INVITE</td>\n",
       "      <td>2014-04-22 03:53:30</td>\n",
       "      <td>1</td>\n",
       "      <td>0</td>\n",
       "      <td>11</td>\n",
       "      <td>10803.0</td>\n",
       "    </tr>\n",
       "    <tr>\n",
       "      <td>1</td>\n",
       "      <td>2</td>\n",
       "      <td>2013-11-15 03:45:04</td>\n",
       "      <td>ORG_INVITE</td>\n",
       "      <td>2014-03-31 03:45:04</td>\n",
       "      <td>0</td>\n",
       "      <td>0</td>\n",
       "      <td>1</td>\n",
       "      <td>316.0</td>\n",
       "    </tr>\n",
       "    <tr>\n",
       "      <td>2</td>\n",
       "      <td>3</td>\n",
       "      <td>2013-03-19 23:14:52</td>\n",
       "      <td>ORG_INVITE</td>\n",
       "      <td>2013-03-19 23:14:52</td>\n",
       "      <td>0</td>\n",
       "      <td>0</td>\n",
       "      <td>94</td>\n",
       "      <td>1525.0</td>\n",
       "    </tr>\n",
       "    <tr>\n",
       "      <td>3</td>\n",
       "      <td>4</td>\n",
       "      <td>2013-05-21 08:09:28</td>\n",
       "      <td>GUEST_INVITE</td>\n",
       "      <td>2013-05-22 08:09:28</td>\n",
       "      <td>0</td>\n",
       "      <td>0</td>\n",
       "      <td>1</td>\n",
       "      <td>5151.0</td>\n",
       "    </tr>\n",
       "    <tr>\n",
       "      <td>4</td>\n",
       "      <td>5</td>\n",
       "      <td>2013-01-17 10:14:20</td>\n",
       "      <td>GUEST_INVITE</td>\n",
       "      <td>2013-01-22 10:14:20</td>\n",
       "      <td>0</td>\n",
       "      <td>0</td>\n",
       "      <td>193</td>\n",
       "      <td>5240.0</td>\n",
       "    </tr>\n",
       "  </tbody>\n",
       "</table>\n",
       "</div>"
      ],
      "text/plain": [
       "   object_id       creation_time creation_source last_session_creation_time  \\\n",
       "0          1 2014-04-22 03:53:30    GUEST_INVITE        2014-04-22 03:53:30   \n",
       "1          2 2013-11-15 03:45:04      ORG_INVITE        2014-03-31 03:45:04   \n",
       "2          3 2013-03-19 23:14:52      ORG_INVITE        2013-03-19 23:14:52   \n",
       "3          4 2013-05-21 08:09:28    GUEST_INVITE        2013-05-22 08:09:28   \n",
       "4          5 2013-01-17 10:14:20    GUEST_INVITE        2013-01-22 10:14:20   \n",
       "\n",
       "   opted_in_to_mailing_list  enabled_for_marketing_drip  org_id  \\\n",
       "0                         1                           0      11   \n",
       "1                         0                           0       1   \n",
       "2                         0                           0      94   \n",
       "3                         0                           0       1   \n",
       "4                         0                           0     193   \n",
       "\n",
       "   invited_by_user_id  \n",
       "0             10803.0  \n",
       "1               316.0  \n",
       "2              1525.0  \n",
       "3              5151.0  \n",
       "4              5240.0  "
      ]
     },
     "execution_count": 198,
     "metadata": {},
     "output_type": "execute_result"
    }
   ],
   "source": [
    "data_users.head()"
   ]
  },
  {
   "cell_type": "code",
   "execution_count": 199,
   "metadata": {},
   "outputs": [
    {
     "data": {
      "text/plain": [
       "org_id\n",
       "0      319\n",
       "1      233\n",
       "2      201\n",
       "3      168\n",
       "4      159\n",
       "      ... \n",
       "355      9\n",
       "400      8\n",
       "397      8\n",
       "386      7\n",
       "416      2\n",
       "Name: object_id, Length: 417, dtype: int64"
      ]
     },
     "execution_count": 199,
     "metadata": {},
     "output_type": "execute_result"
    }
   ],
   "source": [
    "## Next we'll explore the org_id columns\n",
    "data_users.groupby('org_id').count()['object_id'].sort_values(ascending = False)"
   ]
  },
  {
   "cell_type": "markdown",
   "metadata": {},
   "source": [
    "Since the invited_by_user_id column has a lot of missing values, we'll drop that column in our analysis."
   ]
  },
  {
   "cell_type": "code",
   "execution_count": 200,
   "metadata": {},
   "outputs": [],
   "source": [
    "## Drop invited_by_user_id\n",
    "data_users.drop(['invited_by_user_id'], inplace=True, axis = 1)"
   ]
  },
  {
   "cell_type": "markdown",
   "metadata": {},
   "source": [
    "Since there are several missing values in the last_session_creation_time, we can't estimate the exact number of days that a user has been active (i.e. last_session_creation_time - account_creation_time). Hence we drop this row as well. "
   ]
  },
  {
   "cell_type": "code",
   "execution_count": 201,
   "metadata": {},
   "outputs": [],
   "source": [
    "## Drop last_session_creation_time\n",
    "data_users.drop(['last_session_creation_time'], inplace=True, axis = 1)"
   ]
  },
  {
   "cell_type": "markdown",
   "metadata": {},
   "source": [
    "Next, we create a new feature as acc_age which is the age of the account. We can calculate this by taking the delta in days between account creation date and latest account creation date amongst all users. "
   ]
  },
  {
   "cell_type": "code",
   "execution_count": 202,
   "metadata": {},
   "outputs": [],
   "source": [
    "# Create acc_age\n",
    "data_users['acc_age'] = ((max(data_users['creation_time'])) - data_users['creation_time']).dt.days"
   ]
  },
  {
   "cell_type": "code",
   "execution_count": 203,
   "metadata": {},
   "outputs": [
    {
     "data": {
      "text/html": [
       "<div>\n",
       "<style scoped>\n",
       "    .dataframe tbody tr th:only-of-type {\n",
       "        vertical-align: middle;\n",
       "    }\n",
       "\n",
       "    .dataframe tbody tr th {\n",
       "        vertical-align: top;\n",
       "    }\n",
       "\n",
       "    .dataframe thead th {\n",
       "        text-align: right;\n",
       "    }\n",
       "</style>\n",
       "<table border=\"1\" class=\"dataframe\">\n",
       "  <thead>\n",
       "    <tr style=\"text-align: right;\">\n",
       "      <th></th>\n",
       "      <th>object_id</th>\n",
       "      <th>creation_time</th>\n",
       "      <th>creation_source</th>\n",
       "      <th>opted_in_to_mailing_list</th>\n",
       "      <th>enabled_for_marketing_drip</th>\n",
       "      <th>org_id</th>\n",
       "      <th>acc_age</th>\n",
       "    </tr>\n",
       "  </thead>\n",
       "  <tbody>\n",
       "    <tr>\n",
       "      <td>0</td>\n",
       "      <td>1</td>\n",
       "      <td>2014-04-22 03:53:30</td>\n",
       "      <td>GUEST_INVITE</td>\n",
       "      <td>1</td>\n",
       "      <td>0</td>\n",
       "      <td>11</td>\n",
       "      <td>38</td>\n",
       "    </tr>\n",
       "    <tr>\n",
       "      <td>1</td>\n",
       "      <td>2</td>\n",
       "      <td>2013-11-15 03:45:04</td>\n",
       "      <td>ORG_INVITE</td>\n",
       "      <td>0</td>\n",
       "      <td>0</td>\n",
       "      <td>1</td>\n",
       "      <td>196</td>\n",
       "    </tr>\n",
       "    <tr>\n",
       "      <td>2</td>\n",
       "      <td>3</td>\n",
       "      <td>2013-03-19 23:14:52</td>\n",
       "      <td>ORG_INVITE</td>\n",
       "      <td>0</td>\n",
       "      <td>0</td>\n",
       "      <td>94</td>\n",
       "      <td>437</td>\n",
       "    </tr>\n",
       "    <tr>\n",
       "      <td>3</td>\n",
       "      <td>4</td>\n",
       "      <td>2013-05-21 08:09:28</td>\n",
       "      <td>GUEST_INVITE</td>\n",
       "      <td>0</td>\n",
       "      <td>0</td>\n",
       "      <td>1</td>\n",
       "      <td>374</td>\n",
       "    </tr>\n",
       "    <tr>\n",
       "      <td>4</td>\n",
       "      <td>5</td>\n",
       "      <td>2013-01-17 10:14:20</td>\n",
       "      <td>GUEST_INVITE</td>\n",
       "      <td>0</td>\n",
       "      <td>0</td>\n",
       "      <td>193</td>\n",
       "      <td>498</td>\n",
       "    </tr>\n",
       "  </tbody>\n",
       "</table>\n",
       "</div>"
      ],
      "text/plain": [
       "   object_id       creation_time creation_source  opted_in_to_mailing_list  \\\n",
       "0          1 2014-04-22 03:53:30    GUEST_INVITE                         1   \n",
       "1          2 2013-11-15 03:45:04      ORG_INVITE                         0   \n",
       "2          3 2013-03-19 23:14:52      ORG_INVITE                         0   \n",
       "3          4 2013-05-21 08:09:28    GUEST_INVITE                         0   \n",
       "4          5 2013-01-17 10:14:20    GUEST_INVITE                         0   \n",
       "\n",
       "   enabled_for_marketing_drip  org_id  acc_age  \n",
       "0                           0      11       38  \n",
       "1                           0       1      196  \n",
       "2                           0      94      437  \n",
       "3                           0       1      374  \n",
       "4                           0     193      498  "
      ]
     },
     "execution_count": 203,
     "metadata": {},
     "output_type": "execute_result"
    }
   ],
   "source": [
    "data_users.head()"
   ]
  },
  {
   "cell_type": "code",
   "execution_count": 204,
   "metadata": {},
   "outputs": [],
   "source": [
    "#Drop the creation_time datetime columns\n",
    "\n",
    "data_users.drop(['creation_time'], axis = 1, inplace=True)"
   ]
  },
  {
   "cell_type": "code",
   "execution_count": 205,
   "metadata": {},
   "outputs": [
    {
     "data": {
      "text/html": [
       "<div>\n",
       "<style scoped>\n",
       "    .dataframe tbody tr th:only-of-type {\n",
       "        vertical-align: middle;\n",
       "    }\n",
       "\n",
       "    .dataframe tbody tr th {\n",
       "        vertical-align: top;\n",
       "    }\n",
       "\n",
       "    .dataframe thead th {\n",
       "        text-align: right;\n",
       "    }\n",
       "</style>\n",
       "<table border=\"1\" class=\"dataframe\">\n",
       "  <thead>\n",
       "    <tr style=\"text-align: right;\">\n",
       "      <th></th>\n",
       "      <th>object_id</th>\n",
       "      <th>creation_source</th>\n",
       "      <th>opted_in_to_mailing_list</th>\n",
       "      <th>enabled_for_marketing_drip</th>\n",
       "      <th>org_id</th>\n",
       "      <th>acc_age</th>\n",
       "    </tr>\n",
       "  </thead>\n",
       "  <tbody>\n",
       "    <tr>\n",
       "      <td>0</td>\n",
       "      <td>1</td>\n",
       "      <td>GUEST_INVITE</td>\n",
       "      <td>1</td>\n",
       "      <td>0</td>\n",
       "      <td>11</td>\n",
       "      <td>38</td>\n",
       "    </tr>\n",
       "    <tr>\n",
       "      <td>1</td>\n",
       "      <td>2</td>\n",
       "      <td>ORG_INVITE</td>\n",
       "      <td>0</td>\n",
       "      <td>0</td>\n",
       "      <td>1</td>\n",
       "      <td>196</td>\n",
       "    </tr>\n",
       "    <tr>\n",
       "      <td>2</td>\n",
       "      <td>3</td>\n",
       "      <td>ORG_INVITE</td>\n",
       "      <td>0</td>\n",
       "      <td>0</td>\n",
       "      <td>94</td>\n",
       "      <td>437</td>\n",
       "    </tr>\n",
       "    <tr>\n",
       "      <td>3</td>\n",
       "      <td>4</td>\n",
       "      <td>GUEST_INVITE</td>\n",
       "      <td>0</td>\n",
       "      <td>0</td>\n",
       "      <td>1</td>\n",
       "      <td>374</td>\n",
       "    </tr>\n",
       "    <tr>\n",
       "      <td>4</td>\n",
       "      <td>5</td>\n",
       "      <td>GUEST_INVITE</td>\n",
       "      <td>0</td>\n",
       "      <td>0</td>\n",
       "      <td>193</td>\n",
       "      <td>498</td>\n",
       "    </tr>\n",
       "  </tbody>\n",
       "</table>\n",
       "</div>"
      ],
      "text/plain": [
       "   object_id creation_source  opted_in_to_mailing_list  \\\n",
       "0          1    GUEST_INVITE                         1   \n",
       "1          2      ORG_INVITE                         0   \n",
       "2          3      ORG_INVITE                         0   \n",
       "3          4    GUEST_INVITE                         0   \n",
       "4          5    GUEST_INVITE                         0   \n",
       "\n",
       "   enabled_for_marketing_drip  org_id  acc_age  \n",
       "0                           0      11       38  \n",
       "1                           0       1      196  \n",
       "2                           0      94      437  \n",
       "3                           0       1      374  \n",
       "4                           0     193      498  "
      ]
     },
     "execution_count": 205,
     "metadata": {},
     "output_type": "execute_result"
    }
   ],
   "source": [
    "data_users.head()"
   ]
  },
  {
   "cell_type": "markdown",
   "metadata": {},
   "source": [
    "Next, we merge the data_users dataframe and the adopted_users series that we created on user_id/object_id. "
   ]
  },
  {
   "cell_type": "code",
   "execution_count": 206,
   "metadata": {},
   "outputs": [
    {
     "data": {
      "text/html": [
       "<div>\n",
       "<style scoped>\n",
       "    .dataframe tbody tr th:only-of-type {\n",
       "        vertical-align: middle;\n",
       "    }\n",
       "\n",
       "    .dataframe tbody tr th {\n",
       "        vertical-align: top;\n",
       "    }\n",
       "\n",
       "    .dataframe thead th {\n",
       "        text-align: right;\n",
       "    }\n",
       "</style>\n",
       "<table border=\"1\" class=\"dataframe\">\n",
       "  <thead>\n",
       "    <tr style=\"text-align: right;\">\n",
       "      <th></th>\n",
       "      <th>is_adopted_user</th>\n",
       "    </tr>\n",
       "    <tr>\n",
       "      <th>user_id</th>\n",
       "      <th></th>\n",
       "    </tr>\n",
       "  </thead>\n",
       "  <tbody>\n",
       "    <tr>\n",
       "      <td>1</td>\n",
       "      <td>False</td>\n",
       "    </tr>\n",
       "    <tr>\n",
       "      <td>2</td>\n",
       "      <td>True</td>\n",
       "    </tr>\n",
       "    <tr>\n",
       "      <td>3</td>\n",
       "      <td>False</td>\n",
       "    </tr>\n",
       "    <tr>\n",
       "      <td>4</td>\n",
       "      <td>False</td>\n",
       "    </tr>\n",
       "    <tr>\n",
       "      <td>5</td>\n",
       "      <td>False</td>\n",
       "    </tr>\n",
       "  </tbody>\n",
       "</table>\n",
       "</div>"
      ],
      "text/plain": [
       "         is_adopted_user\n",
       "user_id                 \n",
       "1                  False\n",
       "2                   True\n",
       "3                  False\n",
       "4                  False\n",
       "5                  False"
      ]
     },
     "execution_count": 206,
     "metadata": {},
     "output_type": "execute_result"
    }
   ],
   "source": [
    "adopted_users = adopted_users.to_frame()\n",
    "adopted_users.columns = ['is_adopted_user']\n",
    "adopted_users.head()"
   ]
  },
  {
   "cell_type": "code",
   "execution_count": 207,
   "metadata": {},
   "outputs": [],
   "source": [
    "#Reset the index\n",
    "adopted_users.reset_index(inplace=True)\n",
    "adopted_users.head()"
   ]
  },
  {
   "cell_type": "code",
   "execution_count": 213,
   "metadata": {},
   "outputs": [],
   "source": [
    "# Next, merge the data_users and adopted_users on object_id on left and user_id on right\n",
    "data = data_users.merge(adopted_users, left_on = 'object_id', right_on = 'user_id')"
   ]
  },
  {
   "cell_type": "code",
   "execution_count": 214,
   "metadata": {},
   "outputs": [
    {
     "data": {
      "text/html": [
       "<div>\n",
       "<style scoped>\n",
       "    .dataframe tbody tr th:only-of-type {\n",
       "        vertical-align: middle;\n",
       "    }\n",
       "\n",
       "    .dataframe tbody tr th {\n",
       "        vertical-align: top;\n",
       "    }\n",
       "\n",
       "    .dataframe thead th {\n",
       "        text-align: right;\n",
       "    }\n",
       "</style>\n",
       "<table border=\"1\" class=\"dataframe\">\n",
       "  <thead>\n",
       "    <tr style=\"text-align: right;\">\n",
       "      <th></th>\n",
       "      <th>object_id</th>\n",
       "      <th>creation_source</th>\n",
       "      <th>opted_in_to_mailing_list</th>\n",
       "      <th>enabled_for_marketing_drip</th>\n",
       "      <th>org_id</th>\n",
       "      <th>acc_age</th>\n",
       "      <th>is_adopted_user</th>\n",
       "    </tr>\n",
       "  </thead>\n",
       "  <tbody>\n",
       "    <tr>\n",
       "      <td>0</td>\n",
       "      <td>1</td>\n",
       "      <td>GUEST_INVITE</td>\n",
       "      <td>1</td>\n",
       "      <td>0</td>\n",
       "      <td>11</td>\n",
       "      <td>38</td>\n",
       "      <td>False</td>\n",
       "    </tr>\n",
       "    <tr>\n",
       "      <td>1</td>\n",
       "      <td>2</td>\n",
       "      <td>ORG_INVITE</td>\n",
       "      <td>0</td>\n",
       "      <td>0</td>\n",
       "      <td>1</td>\n",
       "      <td>196</td>\n",
       "      <td>True</td>\n",
       "    </tr>\n",
       "    <tr>\n",
       "      <td>2</td>\n",
       "      <td>3</td>\n",
       "      <td>ORG_INVITE</td>\n",
       "      <td>0</td>\n",
       "      <td>0</td>\n",
       "      <td>94</td>\n",
       "      <td>437</td>\n",
       "      <td>False</td>\n",
       "    </tr>\n",
       "    <tr>\n",
       "      <td>3</td>\n",
       "      <td>4</td>\n",
       "      <td>GUEST_INVITE</td>\n",
       "      <td>0</td>\n",
       "      <td>0</td>\n",
       "      <td>1</td>\n",
       "      <td>374</td>\n",
       "      <td>False</td>\n",
       "    </tr>\n",
       "    <tr>\n",
       "      <td>4</td>\n",
       "      <td>5</td>\n",
       "      <td>GUEST_INVITE</td>\n",
       "      <td>0</td>\n",
       "      <td>0</td>\n",
       "      <td>193</td>\n",
       "      <td>498</td>\n",
       "      <td>False</td>\n",
       "    </tr>\n",
       "  </tbody>\n",
       "</table>\n",
       "</div>"
      ],
      "text/plain": [
       "   object_id creation_source  opted_in_to_mailing_list  \\\n",
       "0          1    GUEST_INVITE                         1   \n",
       "1          2      ORG_INVITE                         0   \n",
       "2          3      ORG_INVITE                         0   \n",
       "3          4    GUEST_INVITE                         0   \n",
       "4          5    GUEST_INVITE                         0   \n",
       "\n",
       "   enabled_for_marketing_drip  org_id  acc_age  is_adopted_user  \n",
       "0                           0      11       38            False  \n",
       "1                           0       1      196             True  \n",
       "2                           0      94      437            False  \n",
       "3                           0       1      374            False  \n",
       "4                           0     193      498            False  "
      ]
     },
     "execution_count": 214,
     "metadata": {},
     "output_type": "execute_result"
    }
   ],
   "source": [
    "# Drop object_id or user_id since they are redundant\n",
    "data.drop(['user_id'], axis =1 , inplace=True)\n",
    "data.head()"
   ]
  },
  {
   "cell_type": "markdown",
   "metadata": {},
   "source": [
    "The data_users dataframe originally had 12,000 users; adopted_users only had 8,823 unique user ids. However, since we don't have any information on the remaining users who are in data_users, but not in adopted_users, we'll ignore these rows, as we don't have any idea on whether a user is an adopted user or not. "
   ]
  },
  {
   "cell_type": "markdown",
   "metadata": {},
   "source": [
    "# Exploratory Data Analysis"
   ]
  },
  {
   "cell_type": "markdown",
   "metadata": {},
   "source": [
    "## Account age by adopted user type"
   ]
  },
  {
   "cell_type": "code",
   "execution_count": 359,
   "metadata": {},
   "outputs": [
    {
     "data": {
      "text/plain": [
       "Text(0, 0.5, 'User history (days)')"
      ]
     },
     "execution_count": 359,
     "metadata": {},
     "output_type": "execute_result"
    },
    {
     "data": {
      "image/png": "[encoded data removed]",
      "text/plain": [
       "<Figure size 360x360 with 1 Axes>"
      ]
     },
     "metadata": {
      "needs_background": "light"
     },
     "output_type": "display_data"
    }
   ],
   "source": [
    "## Plot of average acc_age by adopted user type\n",
    "data_acc_age = data.groupby('is_adopted_user').mean().reset_index()\n",
    "fig, ax = plt.subplots(figsize = (5,5))\n",
    "ax = sns.barplot(x ='is_adopted_user', y = 'acc_age', data = data_acc_age)\n",
    "ax.set_title('Length of user history (in days) by Adopted User Type')\n",
    "ax.set_xlabel('Adopted User Type')\n",
    "ax.set_ylabel('User history (days)')"
   ]
  },
  {
   "cell_type": "markdown",
   "metadata": {},
   "source": [
    "From the above plot, we see that an adopted user's average length of user history is higher than a user who is not adopted. "
   ]
  },
  {
   "cell_type": "code",
   "execution_count": 362,
   "metadata": {},
   "outputs": [
    {
     "data": {
      "text/html": [
       "<div>\n",
       "<style scoped>\n",
       "    .dataframe tbody tr th:only-of-type {\n",
       "        vertical-align: middle;\n",
       "    }\n",
       "\n",
       "    .dataframe tbody tr th {\n",
       "        vertical-align: top;\n",
       "    }\n",
       "\n",
       "    .dataframe thead th {\n",
       "        text-align: right;\n",
       "    }\n",
       "</style>\n",
       "<table border=\"1\" class=\"dataframe\">\n",
       "  <thead>\n",
       "    <tr style=\"text-align: right;\">\n",
       "      <th></th>\n",
       "      <th>is_adopted_user</th>\n",
       "      <th>object_id</th>\n",
       "      <th>opted_in_to_mailing_list</th>\n",
       "      <th>enabled_for_marketing_drip</th>\n",
       "      <th>org_id</th>\n",
       "      <th>acc_age</th>\n",
       "      <th>creation_source_GUEST_INVITE</th>\n",
       "      <th>creation_source_ORG_INVITE</th>\n",
       "      <th>creation_source_PERSONAL_PROJECTS</th>\n",
       "      <th>creation_source_SIGNUP</th>\n",
       "      <th>creation_source_SIGNUP_GOOGLE_AUTH</th>\n",
       "    </tr>\n",
       "  </thead>\n",
       "  <tbody>\n",
       "    <tr>\n",
       "      <td>0</td>\n",
       "      <td>False</td>\n",
       "      <td>6013.700572</td>\n",
       "      <td>0.250733</td>\n",
       "      <td>0.151249</td>\n",
       "      <td>137.931771</td>\n",
       "      <td>304.574438</td>\n",
       "      <td>0.170085</td>\n",
       "      <td>0.364727</td>\n",
       "      <td>0.082601</td>\n",
       "      <td>0.222687</td>\n",
       "      <td>0.159900</td>\n",
       "    </tr>\n",
       "    <tr>\n",
       "      <td>1</td>\n",
       "      <td>True</td>\n",
       "      <td>6046.313406</td>\n",
       "      <td>0.259058</td>\n",
       "      <td>0.155193</td>\n",
       "      <td>162.655797</td>\n",
       "      <td>364.618357</td>\n",
       "      <td>0.222826</td>\n",
       "      <td>0.346618</td>\n",
       "      <td>0.103865</td>\n",
       "      <td>0.182367</td>\n",
       "      <td>0.144324</td>\n",
       "    </tr>\n",
       "  </tbody>\n",
       "</table>\n",
       "</div>"
      ],
      "text/plain": [
       "   is_adopted_user    object_id  opted_in_to_mailing_list  \\\n",
       "0            False  6013.700572                  0.250733   \n",
       "1             True  6046.313406                  0.259058   \n",
       "\n",
       "   enabled_for_marketing_drip      org_id     acc_age  \\\n",
       "0                    0.151249  137.931771  304.574438   \n",
       "1                    0.155193  162.655797  364.618357   \n",
       "\n",
       "   creation_source_GUEST_INVITE  creation_source_ORG_INVITE  \\\n",
       "0                      0.170085                    0.364727   \n",
       "1                      0.222826                    0.346618   \n",
       "\n",
       "   creation_source_PERSONAL_PROJECTS  creation_source_SIGNUP  \\\n",
       "0                           0.082601                0.222687   \n",
       "1                           0.103865                0.182367   \n",
       "\n",
       "   creation_source_SIGNUP_GOOGLE_AUTH  \n",
       "0                            0.159900  \n",
       "1                            0.144324  "
      ]
     },
     "execution_count": 362,
     "metadata": {},
     "output_type": "execute_result"
    }
   ],
   "source": [
    "data_acc_age"
   ]
  },
  {
   "cell_type": "code",
   "execution_count": 361,
   "metadata": {},
   "outputs": [
    {
     "data": {
      "text/plain": [
       "Text(0.5, 1.0, 'Adopted Users: False')"
      ]
     },
     "execution_count": 361,
     "metadata": {},
     "output_type": "execute_result"
    },
    {
     "data": {
      "image/png": "[encoded data removed]",
      "text/plain": [
       "<Figure size 1008x360 with 2 Axes>"
      ]
     },
     "metadata": {
      "needs_background": "light"
     },
     "output_type": "display_data"
    }
   ],
   "source": [
    "# Plot a histogram of acc_acg or length of user history by adopted user type\n",
    "df_acc_age_true = data[data['is_adopted_user'] == True]\n",
    "df_acc_age_false = data[data['is_adopted_user'] == False]\n",
    "\n",
    "\n",
    "fig, ax = plt.subplots(1,2, figsize = (14,5))\n",
    "df_acc_age_true['acc_age'].hist(alpha = 0.4, ax = ax[0], bins = 20)\n",
    "df_acc_age_false['acc_age'].hist(alpha = 0.4, ax = ax[1], bins = 20)\n",
    "ax[0].set_xlabel('Length of user history (days)')\n",
    "ax[1].set_xlabel('Length of user history (days)')\n",
    "\n",
    "ax[0].set_ylabel('Number of users')\n",
    "ax[1].set_ylabel('Number of users')\n",
    "\n",
    "ax[0].set_title('Adopted Users: True')\n",
    "ax[1].set_title('Adopted Users: False')\n",
    "\n",
    "\n",
    "\n",
    "#plt.xlabel('Length of user history (days)')\n"
   ]
  },
  {
   "cell_type": "markdown",
   "metadata": {},
   "source": [
    "The above histogram indicates that an adopted user has an almost equal distribution of 'length of user history'. In other words, the number of adopted users with different length of user history as binned above are somewhat similar. But for the non-adopted users, we observe tha that the length of user history us very short (<100 days) for a large number of users. These would indicate users who are not interested in the product within 100 days of using it and eventually drop off. "
   ]
  },
  {
   "cell_type": "markdown",
   "metadata": {},
   "source": [
    "## Creation source by adopted user type"
   ]
  },
  {
   "cell_type": "code",
   "execution_count": 253,
   "metadata": {},
   "outputs": [
    {
     "data": {
      "text/plain": [
       "Text(0, 0.5, 'Count')"
      ]
     },
     "execution_count": 253,
     "metadata": {},
     "output_type": "execute_result"
    },
    {
     "data": {
      "image/png": "[encoded data removed]",
      "text/plain": [
       "<Figure size 864x360 with 1 Axes>"
      ]
     },
     "metadata": {
      "needs_background": "light"
     },
     "output_type": "display_data"
    }
   ],
   "source": [
    "# Next, let's look at creation source by adopted user type\n",
    "fig, ax = plt.subplots(figsize = (12,5))\n",
    "ax = sns.countplot(x = 'creation_source', data = data, hue = 'is_adopted_user')\n",
    "ax.set_xlabel('Creation Source')\n",
    "ax.set_ylabel('Count')"
   ]
  },
  {
   "cell_type": "markdown",
   "metadata": {},
   "source": [
    "Based on the above graph, we see that the creation source for each adopted user is highest by 'organizational invite' but there doesn't seem to be much of a difference between the other creation sources. "
   ]
  },
  {
   "cell_type": "code",
   "execution_count": 254,
   "metadata": {},
   "outputs": [
    {
     "data": {
      "text/plain": [
       "creation_source\n",
       "GUEST_INVITE          0.232368\n",
       "ORG_INVITE            0.180050\n",
       "PERSONAL_PROJECTS     0.225131\n",
       "SIGNUP                0.159115\n",
       "SIGNUP_GOOGLE_AUTH    0.172563\n",
       "Name: is_adopted_user, dtype: float64"
      ]
     },
     "execution_count": 254,
     "metadata": {},
     "output_type": "execute_result"
    }
   ],
   "source": [
    "# To confirm this, let us calculate the fraction of users who are adopted by creation source\n",
    "data.groupby('creation_source')['is_adopted_user'].apply(lambda x: sum(x)/len(x))"
   ]
  },
  {
   "cell_type": "markdown",
   "metadata": {},
   "source": [
    "We see that more adopted users were invited by guese and personal projects than through organizations or signups. This makes sense since the choices of becoming a user are higher if someone recommended it to you, or you joined through a project. "
   ]
  },
  {
   "cell_type": "markdown",
   "metadata": {},
   "source": [
    "## Opted in to mailing list by adopted user type"
   ]
  },
  {
   "cell_type": "code",
   "execution_count": 259,
   "metadata": {},
   "outputs": [
    {
     "data": {
      "text/plain": [
       "Text(0, 0.5, 'Total count opted in to mailing list')"
      ]
     },
     "execution_count": 259,
     "metadata": {},
     "output_type": "execute_result"
    },
    {
     "data": {
      "image/png": "[encoded data removed]",
      "text/plain": [
       "<Figure size 360x360 with 1 Axes>"
      ]
     },
     "metadata": {
      "needs_background": "light"
     },
     "output_type": "display_data"
    }
   ],
   "source": [
    "## Plot of average acc_age by adopted user type\n",
    "opted_mail_list = data.groupby('is_adopted_user').count().reset_index()\n",
    "fig, ax = plt.subplots(figsize = (5,5))\n",
    "ax = sns.barplot(x ='is_adopted_user', y = 'opted_in_to_mailing_list', data = opted_mail_list )\n",
    "ax.set_title('Opted in to mailing list by adopted user type')\n",
    "ax.set_xlabel('Adopted User Type')\n",
    "ax.set_ylabel('Total count opted in to mailing list')"
   ]
  },
  {
   "cell_type": "markdown",
   "metadata": {},
   "source": [
    "The above graph shows that overall a lower number of adopted users opted in to mailing list. However, the total number of adopted users is much lower than the users who are not adopted. In order to confirm if there is a significant different in users who opted to mailing list, let's calculate the fraction of users to opted to mailing list."
   ]
  },
  {
   "cell_type": "code",
   "execution_count": 262,
   "metadata": {},
   "outputs": [
    {
     "data": {
      "text/plain": [
       "opted_in_to_mailing_list\n",
       "0    0.185994\n",
       "1    0.192722\n",
       "Name: is_adopted_user, dtype: float64"
      ]
     },
     "execution_count": 262,
     "metadata": {},
     "output_type": "execute_result"
    }
   ],
   "source": [
    "data.groupby('opted_in_to_mailing_list')['is_adopted_user'].apply(lambda x: sum(x)/len(x))"
   ]
  },
  {
   "cell_type": "markdown",
   "metadata": {},
   "source": [
    "## Enabled_for_marketing_drip by adopted user type"
   ]
  },
  {
   "cell_type": "code",
   "execution_count": 263,
   "metadata": {},
   "outputs": [
    {
     "data": {
      "text/plain": [
       "Text(0, 0.5, 'Total count enabled for marketing drip')"
      ]
     },
     "execution_count": 263,
     "metadata": {},
     "output_type": "execute_result"
    },
    {
     "data": {
      "image/png": "[encoded data removed]",
      "text/plain": [
       "<Figure size 360x360 with 1 Axes>"
      ]
     },
     "metadata": {
      "needs_background": "light"
     },
     "output_type": "display_data"
    }
   ],
   "source": [
    "## Plot of average acc_age by adopted user type\n",
    "marketing_drip = data.groupby('is_adopted_user').count().reset_index()\n",
    "fig, ax = plt.subplots(figsize = (5,5))\n",
    "ax = sns.barplot(x ='is_adopted_user', y = 'enabled_for_marketing_drip', data = marketing_drip )\n",
    "ax.set_title('Enabled_for_marketing_drip by adopted user type')\n",
    "ax.set_xlabel('Adopted User Type')\n",
    "ax.set_ylabel('Total count enabled for marketing drip')[]"
   ]
  },
  {
   "cell_type": "markdown",
   "metadata": {},
   "source": [
    "The above graph shows that overall a lower number of adopted users enabled marketing drip. However, the total number of adopted users is much lower than the users who are not adopted. In order to confirm if there is a significant different in users who opted to mailing list, let's calculate the fraction of users who enabled marketing drip."
   ]
  },
  {
   "cell_type": "code",
   "execution_count": 264,
   "metadata": {},
   "outputs": [
    {
     "data": {
      "text/plain": [
       "enabled_for_marketing_drip\n",
       "0    0.186982\n",
       "1    0.191648\n",
       "Name: is_adopted_user, dtype: float64"
      ]
     },
     "execution_count": 264,
     "metadata": {},
     "output_type": "execute_result"
    }
   ],
   "source": [
    "data.groupby('enabled_for_marketing_drip')['is_adopted_user'].apply(lambda x: sum(x)/len(x))"
   ]
  },
  {
   "cell_type": "markdown",
   "metadata": {},
   "source": [
    "Since the goal of this work is to determine which factors predict user adoption, we'll not build a full predictive model. Rather, we'll use **BorutaPy** which is used for performing feature selection for a predictive classification model. Another important point to note is here, the target variable is highly imbalanced due to relatively smaller number of adopted users."
   ]
  },
  {
   "cell_type": "markdown",
   "metadata": {},
   "source": [
    "# Determining important features"
   ]
  },
  {
   "cell_type": "code",
   "execution_count": 313,
   "metadata": {},
   "outputs": [],
   "source": [
    "# First let's create dummy values for the creation_source column\n",
    "data = pd.get_dummies(data) #Drop first dummy column, since it is correlated to the others"
   ]
  },
  {
   "cell_type": "code",
   "execution_count": 314,
   "metadata": {},
   "outputs": [
    {
     "data": {
      "text/html": [
       "<div>\n",
       "<style scoped>\n",
       "    .dataframe tbody tr th:only-of-type {\n",
       "        vertical-align: middle;\n",
       "    }\n",
       "\n",
       "    .dataframe tbody tr th {\n",
       "        vertical-align: top;\n",
       "    }\n",
       "\n",
       "    .dataframe thead th {\n",
       "        text-align: right;\n",
       "    }\n",
       "</style>\n",
       "<table border=\"1\" class=\"dataframe\">\n",
       "  <thead>\n",
       "    <tr style=\"text-align: right;\">\n",
       "      <th></th>\n",
       "      <th>object_id</th>\n",
       "      <th>opted_in_to_mailing_list</th>\n",
       "      <th>enabled_for_marketing_drip</th>\n",
       "      <th>org_id</th>\n",
       "      <th>acc_age</th>\n",
       "      <th>is_adopted_user</th>\n",
       "      <th>creation_source_GUEST_INVITE</th>\n",
       "      <th>creation_source_ORG_INVITE</th>\n",
       "      <th>creation_source_PERSONAL_PROJECTS</th>\n",
       "      <th>creation_source_SIGNUP</th>\n",
       "      <th>creation_source_SIGNUP_GOOGLE_AUTH</th>\n",
       "    </tr>\n",
       "  </thead>\n",
       "  <tbody>\n",
       "    <tr>\n",
       "      <td>0</td>\n",
       "      <td>1</td>\n",
       "      <td>1</td>\n",
       "      <td>0</td>\n",
       "      <td>11</td>\n",
       "      <td>38</td>\n",
       "      <td>False</td>\n",
       "      <td>1</td>\n",
       "      <td>0</td>\n",
       "      <td>0</td>\n",
       "      <td>0</td>\n",
       "      <td>0</td>\n",
       "    </tr>\n",
       "    <tr>\n",
       "      <td>1</td>\n",
       "      <td>2</td>\n",
       "      <td>0</td>\n",
       "      <td>0</td>\n",
       "      <td>1</td>\n",
       "      <td>196</td>\n",
       "      <td>True</td>\n",
       "      <td>0</td>\n",
       "      <td>1</td>\n",
       "      <td>0</td>\n",
       "      <td>0</td>\n",
       "      <td>0</td>\n",
       "    </tr>\n",
       "    <tr>\n",
       "      <td>2</td>\n",
       "      <td>3</td>\n",
       "      <td>0</td>\n",
       "      <td>0</td>\n",
       "      <td>94</td>\n",
       "      <td>437</td>\n",
       "      <td>False</td>\n",
       "      <td>0</td>\n",
       "      <td>1</td>\n",
       "      <td>0</td>\n",
       "      <td>0</td>\n",
       "      <td>0</td>\n",
       "    </tr>\n",
       "    <tr>\n",
       "      <td>3</td>\n",
       "      <td>4</td>\n",
       "      <td>0</td>\n",
       "      <td>0</td>\n",
       "      <td>1</td>\n",
       "      <td>374</td>\n",
       "      <td>False</td>\n",
       "      <td>1</td>\n",
       "      <td>0</td>\n",
       "      <td>0</td>\n",
       "      <td>0</td>\n",
       "      <td>0</td>\n",
       "    </tr>\n",
       "    <tr>\n",
       "      <td>4</td>\n",
       "      <td>5</td>\n",
       "      <td>0</td>\n",
       "      <td>0</td>\n",
       "      <td>193</td>\n",
       "      <td>498</td>\n",
       "      <td>False</td>\n",
       "      <td>1</td>\n",
       "      <td>0</td>\n",
       "      <td>0</td>\n",
       "      <td>0</td>\n",
       "      <td>0</td>\n",
       "    </tr>\n",
       "  </tbody>\n",
       "</table>\n",
       "</div>"
      ],
      "text/plain": [
       "   object_id  opted_in_to_mailing_list  enabled_for_marketing_drip  org_id  \\\n",
       "0          1                         1                           0      11   \n",
       "1          2                         0                           0       1   \n",
       "2          3                         0                           0      94   \n",
       "3          4                         0                           0       1   \n",
       "4          5                         0                           0     193   \n",
       "\n",
       "   acc_age  is_adopted_user  creation_source_GUEST_INVITE  \\\n",
       "0       38            False                             1   \n",
       "1      196             True                             0   \n",
       "2      437            False                             0   \n",
       "3      374            False                             1   \n",
       "4      498            False                             1   \n",
       "\n",
       "   creation_source_ORG_INVITE  creation_source_PERSONAL_PROJECTS  \\\n",
       "0                           0                                  0   \n",
       "1                           1                                  0   \n",
       "2                           1                                  0   \n",
       "3                           0                                  0   \n",
       "4                           0                                  0   \n",
       "\n",
       "   creation_source_SIGNUP  creation_source_SIGNUP_GOOGLE_AUTH  \n",
       "0                       0                                   0  \n",
       "1                       0                                   0  \n",
       "2                       0                                   0  \n",
       "3                       0                                   0  \n",
       "4                       0                                   0  "
      ]
     },
     "execution_count": 314,
     "metadata": {},
     "output_type": "execute_result"
    }
   ],
   "source": [
    "data.head()"
   ]
  },
  {
   "cell_type": "code",
   "execution_count": 315,
   "metadata": {},
   "outputs": [],
   "source": [
    "#Create the target variable and drop columns in the feature set that we don't need \n",
    "adopted = data['is_adopted_user']\n",
    "df_features = data.drop(['is_adopted_user', 'object_id'], axis = 1)"
   ]
  },
  {
   "cell_type": "markdown",
   "metadata": {},
   "source": [
    "Here I'm not performing and standard scaler transformation since the data distribution is not important here. "
   ]
  },
  {
   "cell_type": "code",
   "execution_count": 316,
   "metadata": {},
   "outputs": [
    {
     "name": "stdout",
     "output_type": "stream",
     "text": [
      "Iteration: \t1 / 100\n",
      "Confirmed: \t0\n",
      "Tentative: \t9\n",
      "Rejected: \t0\n",
      "Iteration: \t2 / 100\n",
      "Confirmed: \t0\n",
      "Tentative: \t9\n",
      "Rejected: \t0\n",
      "Iteration: \t3 / 100\n",
      "Confirmed: \t0\n",
      "Tentative: \t9\n",
      "Rejected: \t0\n",
      "Iteration: \t4 / 100\n",
      "Confirmed: \t0\n",
      "Tentative: \t9\n",
      "Rejected: \t0\n",
      "Iteration: \t5 / 100\n",
      "Confirmed: \t0\n",
      "Tentative: \t9\n",
      "Rejected: \t0\n",
      "Iteration: \t6 / 100\n",
      "Confirmed: \t0\n",
      "Tentative: \t9\n",
      "Rejected: \t0\n",
      "Iteration: \t7 / 100\n",
      "Confirmed: \t0\n",
      "Tentative: \t9\n",
      "Rejected: \t0\n",
      "Iteration: \t8 / 100\n",
      "Confirmed: \t2\n",
      "Tentative: \t0\n",
      "Rejected: \t7\n",
      "\n",
      "\n",
      "BorutaPy finished running.\n",
      "\n",
      "Iteration: \t9 / 100\n",
      "Confirmed: \t2\n",
      "Tentative: \t0\n",
      "Rejected: \t7\n"
     ]
    },
    {
     "data": {
      "text/plain": [
       "BorutaPy(alpha=0.05,\n",
       "         estimator=RandomForestClassifier(bootstrap=True,\n",
       "                                          class_weight='balanced',\n",
       "                                          criterion='gini', max_depth=None,\n",
       "                                          max_features='auto',\n",
       "                                          max_leaf_nodes=None,\n",
       "                                          min_impurity_decrease=0.0,\n",
       "                                          min_impurity_split=None,\n",
       "                                          min_samples_leaf=1,\n",
       "                                          min_samples_split=2,\n",
       "                                          min_weight_fraction_leaf=0.0,\n",
       "                                          n_estimators=42, n_jobs=-1,\n",
       "                                          oob_score=False,\n",
       "                                          random_state=RandomState(MT19937) at 0x7F60DCFB9D10,\n",
       "                                          verbose=0, warm_start=False),\n",
       "         max_iter=100, n_estimators='auto', perc=100,\n",
       "         random_state=RandomState(MT19937) at 0x7F60DCFB9D10, two_step=True,\n",
       "         verbose=2)"
      ]
     },
     "execution_count": 316,
     "metadata": {},
     "output_type": "execute_result"
    }
   ],
   "source": [
    "# First define a random forest classifier, and set the class_weight to balanced. \n",
    "\n",
    "# The “balanced” mode uses the values of y to automatically adjust weights inversely \n",
    "#proportional to class frequencies in the input data as n_samples / (n_classes * np.bincount(y))\n",
    "rf = RandomForestClassifier(n_jobs=-1, class_weight='balanced')\n",
    "\n",
    "#Next, define Boruta feature selection method\n",
    "feat_selector = BorutaPy(rf, n_estimators='auto', verbose=2, random_state=1)\n",
    "\n",
    "\n",
    "# fit the model\n",
    "feat_selector.fit(df_features.values, adopted.values)\n"
   ]
  },
  {
   "cell_type": "code",
   "execution_count": 317,
   "metadata": {},
   "outputs": [],
   "source": [
    "## Determine the column names in df_features\n",
    "df_columns = df_features.columns.values"
   ]
  },
  {
   "cell_type": "code",
   "execution_count": 318,
   "metadata": {},
   "outputs": [
    {
     "data": {
      "text/html": [
       "<div>\n",
       "<style scoped>\n",
       "    .dataframe tbody tr th:only-of-type {\n",
       "        vertical-align: middle;\n",
       "    }\n",
       "\n",
       "    .dataframe tbody tr th {\n",
       "        vertical-align: top;\n",
       "    }\n",
       "\n",
       "    .dataframe thead th {\n",
       "        text-align: right;\n",
       "    }\n",
       "</style>\n",
       "<table border=\"1\" class=\"dataframe\">\n",
       "  <thead>\n",
       "    <tr style=\"text-align: right;\">\n",
       "      <th></th>\n",
       "      <th>Rank</th>\n",
       "    </tr>\n",
       "  </thead>\n",
       "  <tbody>\n",
       "    <tr>\n",
       "      <td>org_id</td>\n",
       "      <td>1</td>\n",
       "    </tr>\n",
       "    <tr>\n",
       "      <td>acc_age</td>\n",
       "      <td>1</td>\n",
       "    </tr>\n",
       "    <tr>\n",
       "      <td>opted_in_to_mailing_list</td>\n",
       "      <td>2</td>\n",
       "    </tr>\n",
       "    <tr>\n",
       "      <td>enabled_for_marketing_drip</td>\n",
       "      <td>3</td>\n",
       "    </tr>\n",
       "    <tr>\n",
       "      <td>creation_source_ORG_INVITE</td>\n",
       "      <td>4</td>\n",
       "    </tr>\n",
       "    <tr>\n",
       "      <td>creation_source_GUEST_INVITE</td>\n",
       "      <td>6</td>\n",
       "    </tr>\n",
       "    <tr>\n",
       "      <td>creation_source_SIGNUP</td>\n",
       "      <td>6</td>\n",
       "    </tr>\n",
       "    <tr>\n",
       "      <td>creation_source_SIGNUP_GOOGLE_AUTH</td>\n",
       "      <td>6</td>\n",
       "    </tr>\n",
       "    <tr>\n",
       "      <td>creation_source_PERSONAL_PROJECTS</td>\n",
       "      <td>8</td>\n",
       "    </tr>\n",
       "  </tbody>\n",
       "</table>\n",
       "</div>"
      ],
      "text/plain": [
       "                                    Rank\n",
       "org_id                                 1\n",
       "acc_age                                1\n",
       "opted_in_to_mailing_list               2\n",
       "enabled_for_marketing_drip             3\n",
       "creation_source_ORG_INVITE             4\n",
       "creation_source_GUEST_INVITE           6\n",
       "creation_source_SIGNUP                 6\n",
       "creation_source_SIGNUP_GOOGLE_AUTH     6\n",
       "creation_source_PERSONAL_PROJECTS      8"
      ]
     },
     "execution_count": 318,
     "metadata": {},
     "output_type": "execute_result"
    }
   ],
   "source": [
    "# Check feature ranking\n",
    "df_features_ranking = pd.DataFrame(feat_selector.ranking_, index = df_columns)\n",
    "df_features_ranking.columns = ['Rank']\n",
    "df_features_ranking.sort_values('Rank', ascending = True)"
   ]
  },
  {
   "cell_type": "markdown",
   "metadata": {},
   "source": [
    "The top 3 features for predicting whether a user is an 'adopted user' or not are  - **the organization id (organization a user belongs to), the age or length of user history in which the total time that a user has been active, whether or not the user opted in to the mailing list and whether the user enable for drop marketing**. The other features such as the account creation sourec are less important. \n"
   ]
  },
  {
   "cell_type": "code",
   "execution_count": null,
   "metadata": {},
   "outputs": [],
   "source": []
  }
 ],
 "metadata": {
  "kernelspec": {
   "display_name": "Python 3",
   "language": "python",
   "name": "python3"
  },
  "language_info": {
   "codemirror_mode": {
    "name": "ipython",
    "version": 3
   },
   "file_extension": ".py",
   "mimetype": "text/x-python",
   "name": "python",
   "nbconvert_exporter": "python",
   "pygments_lexer": "ipython3",
   "version": "3.7.4"
  },
  "toc": {
   "base_numbering": 1,
   "nav_menu": {},
   "number_sections": true,
   "sideBar": true,
   "skip_h1_title": false,
   "title_cell": "Table of Contents",
   "title_sidebar": "Contents",
   "toc_cell": false,
   "toc_position": {},
   "toc_section_display": true,
   "toc_window_display": false
  }
 },
 "nbformat": 4,
 "nbformat_minor": 2
}
